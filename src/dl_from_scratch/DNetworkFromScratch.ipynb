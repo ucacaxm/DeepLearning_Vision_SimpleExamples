{
  "cells": [
    {
      "cell_type": "markdown",
      "metadata": {
        "id": "Ol0gkj9nT5U2"
      },
      "source": [
        "L’objectif de ce TP est d'implémenter par vous même l’apprentissage de réseaux de neurones simples. Cette prise en main sera formatrice pour utiliser des frameworks plus évolués (comme PyTorch) où l’apprentissage est automatisé.\n",
        "\n",
        "Nous allons utiliser la base de données image MNIST, constituée d’images de caractères manuscrits (60000 images en apprentissage, 10000 en test). L'objectif est de reconnaitre le chiffre par un réseau de neurones. Les images sont en niveau de gris de taille 28x28. Le vecteur d'entrée est de 784 valeurs et un vecteur de 10 valeurs en sortie.\n",
        "\n",
        "Voici le code pour récupérer les images avec sklearn :"
      ]
    },
    {
      "cell_type": "code",
      "execution_count": 4,
      "metadata": {
        "colab": {
          "base_uri": "https://localhost:8080/"
        },
        "id": "iS5kZaVC_rLs",
        "outputId": "0a742684-a9f3-4536-fd07-f24c2728ff0d"
      },
      "outputs": [],
      "source": [
        "import numpy as np\n",
        "import matplotlib.pyplot as plt\n",
        "from sklearn.utils import shuffle\n",
        "from sklearn.datasets import fetch_openml"
      ]
    },
    {
      "cell_type": "code",
      "execution_count": 38,
      "metadata": {
        "colab": {
          "base_uri": "https://localhost:8080/"
        },
        "id": "gZqxNfbFS1OB",
        "outputId": "6b460ddc-6356-4801-8fa4-b98fda7355bf"
      },
      "outputs": [
        {
          "name": "stdout",
          "output_type": "stream",
          "text": [
            "X shape: (70000, 784), y shape: (70000,)\n",
            "x: type= <class 'numpy.ndarray'>  shape= (70000, 784)\n",
            "y: type= <class 'numpy.ndarray'>  shape= (70000,)\n"
          ]
        }
      ],
      "source": [
        "def load_mnist_data():\n",
        "  # Télécharger les données MNIST avec sklearn\n",
        "  mnist = fetch_openml('mnist_784', version=1)\n",
        "\n",
        "  # Extraire les données et les étiquettes\n",
        "  X, y = mnist['data'], mnist['target']\n",
        "\n",
        "  # Conversion en arrays numpy\n",
        "  X = X.to_numpy().astype(np.float32)  # Convertir les features en float32 numpy array\n",
        "  y = y.to_numpy().astype(int)         # Convertir les labels en entiers\n",
        "\n",
        "  # Normalisation des données (optionnel)\n",
        "  X /= 255.0\n",
        "\n",
        "  # Reshape les images en 28x28 pour correspondre au format des images\n",
        "  #X = X.reshape(-1, 28, 28)\n",
        "  X = X.reshape(-1, 28*28)\n",
        "\n",
        "  # Afficher les formes des arrays\n",
        "  print(f'X shape: {X.shape}, y shape: {y.shape}')\n",
        "  return X, y\n",
        "\n",
        "X,Y = load_mnist_data()\n",
        "print(\"x: type=\",type(X), \" shape=\",np.shape(X))\n",
        "print(\"y: type=\",type(Y), \" shape=\",np.shape(Y))\n"
      ]
    },
    {
      "cell_type": "markdown",
      "metadata": {
        "id": "4WehJyJtZt5E"
      },
      "source": [
        "Visualisation de quelques images"
      ]
    },
    {
      "cell_type": "code",
      "execution_count": 39,
      "metadata": {
        "colab": {
          "base_uri": "https://localhost:8080/",
          "height": 288
        },
        "id": "PSr7kyGlZxvu",
        "outputId": "a6f6d7a9-12a9-491e-ab23-1b2280b89df5"
      },
      "outputs": [
        {
          "data": {
            "image/png": "[encoded data removed]",
            "text/plain": [
              "<Figure size 2800x2800 with 1 Axes>"
            ]
          },
          "metadata": {},
          "output_type": "display_data"
        },
        {
          "data": {
            "image/png": "[encoded data removed]",
            "text/plain": [
              "<Figure size 640x480 with 1 Axes>"
            ]
          },
          "metadata": {},
          "output_type": "display_data"
        },
        {
          "data": {
            "image/png": "[encoded data removed]",
            "text/plain": [
              "<Figure size 640x480 with 1 Axes>"
            ]
          },
          "metadata": {},
          "output_type": "display_data"
        },
        {
          "data": {
            "image/png": "[encoded data removed]",
            "text/plain": [
              "<Figure size 640x480 with 1 Axes>"
            ]
          },
          "metadata": {},
          "output_type": "display_data"
        },
        {
          "data": {
            "image/png": "[encoded data removed]",
            "text/plain": [
              "<Figure size 640x480 with 1 Axes>"
            ]
          },
          "metadata": {},
          "output_type": "display_data"
        }
      ],
      "source": [
        "def visu(X_train):\n",
        "  plt.figure(figsize=(28, 28))\n",
        "  for i in range(5):\n",
        "    plt.subplot(10,20,i+1)\n",
        "    plt.imshow( 255*(X_train[i,:].reshape([28,28])), cmap='gray')\n",
        "    plt.axis('off')\n",
        "    plt.show()\n",
        "\n",
        "\n",
        "visu(X)"
      ]
    },
    {
      "cell_type": "markdown",
      "metadata": {
        "id": "PQmG0MICP3oY"
      },
      "source": [
        "Quelques fonctions utiles."
      ]
    },
    {
      "cell_type": "code",
      "execution_count": 40,
      "metadata": {
        "id": "cCDUnc06P8Iv"
      },
      "outputs": [],
      "source": [
        "def sigmoid(x):\n",
        "    return 1.0 / (1.0 + np.exp(-x))\n",
        "\n",
        "\n",
        "def sigmoid_prime(x):\n",
        "    \"\"\"Dérivée de la fonction sigmoid.\"\"\"\n",
        "    return sigmoid(x) * (1.0 - sigmoid(x))\n",
        "\n",
        "\n",
        "def to_one_hot(y, k):\n",
        "    \"\"\"Convertit un entier en vecteur \"one-hot\".\n",
        "    to_one_hot(5, 10) -> (0, 0, 0, 0, 1, 0, 0, 0, 0)\n",
        "    \"\"\"\n",
        "    one_hot = np.zeros(k)\n",
        "    one_hot[y] = 1\n",
        "    return one_hot"
      ]
    },
    {
      "cell_type": "markdown",
      "metadata": {
        "id": "828p1_zgVlda"
      },
      "source": [
        "La définition d'un réseau complétement connecté (FC fuly connected) est une succession de couches (layer). Un layer contient une matrice W des poids et bias : W.x_input + bias. La fonction d'activation est sigmoid."
      ]
    },
    {
      "cell_type": "code",
      "execution_count": 41,
      "metadata": {
        "id": "iBBcYSg0VyU5"
      },
      "outputs": [],
      "source": [
        "class Layer:\n",
        "    \"\"\"\n",
        "      Une seule couche de neurones.\n",
        "    \"\"\"\n",
        "    def __init__(self, size, input_size):\n",
        "      \"\"\"\n",
        "        `size` est le nombre de neurones dans la couche.\n",
        "        `input_size` est le nombre de neurones dans la couche précédente.\n",
        "      \"\"\"\n",
        "      self.size = size\n",
        "      self.input_size = input_size\n",
        "\n",
        "      # Les poids sont représentés par une matrice de n lignes et m colonnes.\n",
        "      # n = le nombre de neurones, m = le nombre de neurones dans la couche précédente.\n",
        "      self.weights = np.random.randn(size, input_size)\n",
        "\n",
        "      # Un biais par neurone: y = W.x + B (B=bias)\n",
        "      self.bias = np.random.randn(size)\n",
        "\n",
        "\n",
        "    def forward(self, data):\n",
        "      \"\"\"\n",
        "        Résultat du calcul de chaque neurone.\n",
        "        `data` est un vecteur de longueur `self.input_size`\n",
        "        retourne un vecteur de taille `self.size`.\n",
        "      \"\"\"\n",
        "      aggregation = self.aggregation(data)\n",
        "      activation = self.activation(aggregation)\n",
        "      return activation\n",
        "\n",
        "\n",
        "    def aggregation(self, data):\n",
        "      \"\"\"\n",
        "        Calcule W.data + bias\n",
        "      \"\"\"\n",
        "      return np.dot(self.weights, data) + self.bias\n",
        "\n",
        "\n",
        "    def activation(self, x):\n",
        "        \"\"\"\n",
        "          Passe les valeurs aggrégées dans la fonction d'activation.\n",
        "        \"\"\"\n",
        "        return sigmoid(x)\n",
        "\n",
        "\n",
        "    def activation_prime(self, x):\n",
        "        return sigmoid_prime(x)\n",
        "\n",
        "\n",
        "    def update_weights(self, gradient, learning_rate):\n",
        "        \"\"\" Mise à jour des poids à partir du gradient (algo du gradient) \"\"\"\n",
        "        self.weights -= learning_rate * gradient\n",
        "\n",
        "\n",
        "    def update_biases(self, gradient, learning_rate):\n",
        "        \"\"\" Idem mais avec les biais \"\"\"\n",
        "        self.bias -= learning_rate * gradient"
      ]
    },
    {
      "cell_type": "markdown",
      "metadata": {
        "id": "Olq1NgYFjPEy"
      },
      "source": [
        "Le réseau"
      ]
    },
    {
      "cell_type": "code",
      "execution_count": 45,
      "metadata": {
        "id": "uFwgMlGPjONR"
      },
      "outputs": [],
      "source": [
        "class Network:\n",
        "    \"\"\"Un réseau constitué de couches de neurones.\"\"\"\n",
        "    def __init__(self, input_dim):\n",
        "        self.input_dim = input_dim\n",
        "        self.layers = []\n",
        "\n",
        "\n",
        "    def add_layer(self, size):\n",
        "        if len(self.layers) > 0:\n",
        "            input_dim = self.layers[-1].size\n",
        "        else:\n",
        "            input_dim = self.input_dim\n",
        "        self.layers.append(Layer(size, input_dim))\n",
        "\n",
        "\n",
        "    def feedforward(self, input_data):\n",
        "        \"\"\" Propage les données d'entrée d'une couche à l'autre \"\"\"\n",
        "        activation = input_data\n",
        "        for layer in self.layers:\n",
        "            activation = layer.forward(activation)\n",
        "        return activation\n",
        "\n",
        "\n",
        "    def predict(self, input_data):\n",
        "        \"\"\" Passe input_data dans le réseau (feedForward) et retourne l'index du neurone de \n",
        "            sortie qui a la plus grande valeur (qui est la classe sélectionnée par le réseau). \"\"\"\n",
        "        return np.argmax(self.feedforward(input_data))\n",
        "\n",
        "\n",
        "    def evaluate(self, X, Y):\n",
        "        \"\"\" Évalue la performance du réseau à partir d'un set d'exemples. Retourne un nombre entre 0 et 1.\"\"\"\n",
        "        results = 0.0\n",
        "        n = 0\n",
        "        for (x,y) in zip(X,Y):\n",
        "            results += (self.predict(x.reshape( 28*28 )  ) == y)\n",
        "            n += 1\n",
        "        #results = [1 if self.predict(x) == y else 0 for (x, y) in zip(X, Y)]\n",
        "        accuracy = results / n\n",
        "        return accuracy\n",
        "\n",
        "\n",
        "    def train(self, X, Y, steps=30, learning_rate=0.3, batch_size=10):\n",
        "        \"\"\"\n",
        "            Fonction d'entraînement du modèle.\n",
        "            La rétropropagation tourne sur un certain nombre d'exemples (batch_size) avant \n",
        "            de calculer un gradient moyen, et de mettre à jour les poids.\n",
        "        \"\"\"\n",
        "        n = Y.size\n",
        "        for i in range(steps):\n",
        "            X, Y = shuffle(X, Y)\n",
        "            for batch_start in range(0, n, batch_size):\n",
        "                X_batch, Y_batch = X[batch_start:batch_start + batch_size], Y[batch_start:batch_start + batch_size]\n",
        "                self.train_batch(X_batch, Y_batch, learning_rate)\n",
        "\n",
        "\n",
        "    def train_batch(self, X, Y, learning_rate):\n",
        "        \"\"\"     Cette fonction combine les algos du retropropagation du gradient + gradient descendant \"\"\"\n",
        "        # Initialise les gradients pour les poids et les biais.\n",
        "        weight_gradient = [np.zeros(layer.weights.shape) for layer in self.layers]\n",
        "        bias_gradient = [np.zeros(layer.bias.shape) for layer in self.layers]\n",
        "\n",
        "        # On fait tourner l'algo de rétropropagation pour calculer les\n",
        "        # gradients un certain nombre de fois. On fera la moyenne ensuite.\n",
        "        for (x, y) in zip(X, Y):\n",
        "            new_weight_gradient, new_bias_gradient = self.backprop(x, y)\n",
        "            weight_gradient = [wg + nwg for wg, nwg in zip(weight_gradient, new_weight_gradient)]\n",
        "            bias_gradient = [bg + nbg for bg, nbg in zip(bias_gradient, new_bias_gradient)]\n",
        "\n",
        "        # C'est ici qu'on calcule les moyennes des gradients calculés\n",
        "        avg_weight_gradient = [wg / Y.size for wg in weight_gradient]\n",
        "        avg_bias_gradient = [bg / Y.size for bg in bias_gradient]\n",
        "\n",
        "        # Il ne reste plus qu'à mettre à jour les poids et biais en utilisant l'algo du gradient descendant.\n",
        "        for layer, weight_gradient, bias_gradient in zip(self.layers, avg_weight_gradient, avg_bias_gradient):\n",
        "            layer.update_weights(weight_gradient, learning_rate)\n",
        "            layer.update_biases(bias_gradient, learning_rate)\n",
        "\n",
        "\n",
        "    def backprop(self, x, y):\n",
        "        \"\"\"   L'algorithme de rétropropagation du gradient. C'est là que tout le boulot se fait. \"\"\"\n",
        "        # Une passe vers l'avant puis une passe vers l'arrière\n",
        "        # On profite de la passe vers l'avant pour stocker les calculs\n",
        "        # intermédiaires, qui seront réutilisés par la suite.\n",
        "        aggregations = []\n",
        "        activation = x\n",
        "        activations = [activation]\n",
        "\n",
        "        # Propagation pour obtenir la sortie (même code que feedForward mais on stocke les valeurs intermédiaires dans aggregations et activations)\n",
        "        for layer in self.layers:\n",
        "            aggregation = layer.aggregation(activation)\n",
        "            aggregations.append(aggregation)\n",
        "            activation = layer.activation(aggregation)\n",
        "            activations.append(activation)\n",
        "\n",
        "        # Calcul de delta pour la dernière couche (delta = erreur)\n",
        "        target = to_one_hot(int(y), 10)\n",
        "        delta = self.get_output_delta(aggregation, activation, target)\n",
        "        deltas = [delta]\n",
        "\n",
        "        # Phase de rétropropagation pour calculer les deltas de chaque couche\n",
        "        # On utilise une implémentation vectorielle des équations.\n",
        "        nb_layers = len(self.layers)\n",
        "        for l in reversed(range(nb_layers - 1)):\n",
        "            layer = self.layers[l]\n",
        "            next_layer = self.layers[l + 1]\n",
        "            activation_prime = layer.activation_prime(aggregations[l])\n",
        "            delta = activation_prime * np.dot(next_layer.weights.transpose(), delta)\n",
        "            deltas.append(delta)\n",
        "\n",
        "        # Départ de l'avant-dernière couche pour remonter vers la première. \n",
        "        # deltas[0] contient le delta de la dernière couche.\n",
        "        # Il faut inverser pour faciliter la gestion des indices plus tard.\n",
        "        deltas = list(reversed(deltas))\n",
        "\n",
        "        # On utilise maintenant les deltas pour calculer les gradients.\n",
        "        weight_gradient = []\n",
        "        bias_gradient = []\n",
        "        for l in range(len(self.layers)):\n",
        "            # L'indice des activations est « décalé », puisque\n",
        "            # activation[0] contient l'entrée (x), et pas l'activation de la première couche.\n",
        "            prev_activation = activations[l]\n",
        "            weight_gradient.append(np.outer(deltas[l], prev_activation))\n",
        "            bias_gradient.append(deltas[l])\n",
        "        return weight_gradient, bias_gradient\n",
        "\n",
        "    # Calcule le delta pour la dernière couche, en utilisant\n",
        "    # les dernières valeurs d'aggregation, d'activation, et la valeur cible.\n",
        "    # Notez que lorsque l'on utilise l'entropie croisée pour fonction de\n",
        "    # coût, l'équation de calcul de delta peut-être simplifiée pour aboutir\n",
        "    # au résultat ci dessous.\n",
        "    # Cf http://neuralnetworksanddeeplearning.com/chap3.html#the_cross-entropy_cost_function\n",
        "    def get_output_delta(self, computed, target):\n",
        "        return computed - target"
      ]
    },
    {
      "cell_type": "markdown",
      "metadata": {
        "id": "N8k7-lS8k7AG"
      },
      "source": [
        "Le main"
      ]
    },
    {
      "cell_type": "code",
      "execution_count": 46,
      "metadata": {
        "colab": {
          "base_uri": "https://localhost:8080/",
          "height": 428
        },
        "id": "89htwB4gk8YY",
        "outputId": "d8cc922b-7f82-4762-8c68-f2e53740ee31"
      },
      "outputs": [
        {
          "name": "stdout",
          "output_type": "stream",
          "text": [
            "Performance initiale : 8.55%\n",
            "Nouvelle performance : 93.30%\n"
          ]
        },
        {
          "ename": "KeyboardInterrupt",
          "evalue": "",
          "output_type": "error",
          "traceback": [
            "\u001b[1;31m---------------------------------------------------------------------------\u001b[0m",
            "\u001b[1;31mKeyboardInterrupt\u001b[0m                         Traceback (most recent call last)",
            "Cell \u001b[1;32mIn[46], line 14\u001b[0m\n\u001b[0;32m     11\u001b[0m \u001b[38;5;28mprint\u001b[39m(\u001b[38;5;124m'\u001b[39m\u001b[38;5;124mPerformance initiale : \u001b[39m\u001b[38;5;132;01m{:.2f}\u001b[39;00m\u001b[38;5;124m%\u001b[39m\u001b[38;5;124m'\u001b[39m\u001b[38;5;241m.\u001b[39mformat(accuracy \u001b[38;5;241m*\u001b[39m \u001b[38;5;241m100.0\u001b[39m))\n\u001b[0;32m     13\u001b[0m \u001b[38;5;28;01mfor\u001b[39;00m i \u001b[38;5;129;01min\u001b[39;00m \u001b[38;5;28mrange\u001b[39m(\u001b[38;5;241m30\u001b[39m):\n\u001b[1;32m---> 14\u001b[0m     \u001b[43mnet\u001b[49m\u001b[38;5;241;43m.\u001b[39;49m\u001b[43mtrain\u001b[49m\u001b[43m(\u001b[49m\u001b[43mX_train\u001b[49m\u001b[43m,\u001b[49m\u001b[43m \u001b[49m\u001b[43mY_train\u001b[49m\u001b[43m,\u001b[49m\u001b[43m \u001b[49m\u001b[43msteps\u001b[49m\u001b[38;5;241;43m=\u001b[39;49m\u001b[38;5;241;43m1\u001b[39;49m\u001b[43m,\u001b[49m\u001b[43m \u001b[49m\u001b[43mlearning_rate\u001b[49m\u001b[38;5;241;43m=\u001b[39;49m\u001b[38;5;241;43m3.0\u001b[39;49m\u001b[43m)\u001b[49m\n\u001b[0;32m     15\u001b[0m     accuracy \u001b[38;5;241m=\u001b[39m net\u001b[38;5;241m.\u001b[39mevaluate(X_test, Y_test)\n\u001b[0;32m     16\u001b[0m     \u001b[38;5;28mprint\u001b[39m(\u001b[38;5;124m'\u001b[39m\u001b[38;5;124mNouvelle performance : \u001b[39m\u001b[38;5;132;01m{:.2f}\u001b[39;00m\u001b[38;5;124m%\u001b[39m\u001b[38;5;124m'\u001b[39m\u001b[38;5;241m.\u001b[39mformat(accuracy \u001b[38;5;241m*\u001b[39m \u001b[38;5;241m100.0\u001b[39m))\n",
            "Cell \u001b[1;32mIn[45], line 53\u001b[0m, in \u001b[0;36mNetwork.train\u001b[1;34m(self, X, Y, steps, learning_rate, batch_size)\u001b[0m\n\u001b[0;32m     51\u001b[0m \u001b[38;5;28;01mfor\u001b[39;00m batch_start \u001b[38;5;129;01min\u001b[39;00m \u001b[38;5;28mrange\u001b[39m(\u001b[38;5;241m0\u001b[39m, n, batch_size):\n\u001b[0;32m     52\u001b[0m     X_batch, Y_batch \u001b[38;5;241m=\u001b[39m X[batch_start:batch_start \u001b[38;5;241m+\u001b[39m batch_size], Y[batch_start:batch_start \u001b[38;5;241m+\u001b[39m batch_size]\n\u001b[1;32m---> 53\u001b[0m     \u001b[38;5;28;43mself\u001b[39;49m\u001b[38;5;241;43m.\u001b[39;49m\u001b[43mtrain_batch\u001b[49m\u001b[43m(\u001b[49m\u001b[43mX_batch\u001b[49m\u001b[43m,\u001b[49m\u001b[43m \u001b[49m\u001b[43mY_batch\u001b[49m\u001b[43m,\u001b[49m\u001b[43m \u001b[49m\u001b[43mlearning_rate\u001b[49m\u001b[43m)\u001b[49m\n",
            "Cell \u001b[1;32mIn[45], line 66\u001b[0m, in \u001b[0;36mNetwork.train_batch\u001b[1;34m(self, X, Y, learning_rate)\u001b[0m\n\u001b[0;32m     64\u001b[0m \u001b[38;5;28;01mfor\u001b[39;00m (x, y) \u001b[38;5;129;01min\u001b[39;00m \u001b[38;5;28mzip\u001b[39m(X, Y):\n\u001b[0;32m     65\u001b[0m     new_weight_gradient, new_bias_gradient \u001b[38;5;241m=\u001b[39m \u001b[38;5;28mself\u001b[39m\u001b[38;5;241m.\u001b[39mbackprop(x, y)\n\u001b[1;32m---> 66\u001b[0m     weight_gradient \u001b[38;5;241m=\u001b[39m [wg \u001b[38;5;241m+\u001b[39m nwg \u001b[38;5;28;01mfor\u001b[39;00m wg, nwg \u001b[38;5;129;01min\u001b[39;00m \u001b[38;5;28mzip\u001b[39m(weight_gradient, new_weight_gradient)]\n\u001b[0;32m     67\u001b[0m     bias_gradient \u001b[38;5;241m=\u001b[39m [bg \u001b[38;5;241m+\u001b[39m nbg \u001b[38;5;28;01mfor\u001b[39;00m bg, nbg \u001b[38;5;129;01min\u001b[39;00m \u001b[38;5;28mzip\u001b[39m(bias_gradient, new_bias_gradient)]\n\u001b[0;32m     69\u001b[0m \u001b[38;5;66;03m# C'est ici qu'on calcule les moyennes des gradients calculés\u001b[39;00m\n",
            "Cell \u001b[1;32mIn[45], line 66\u001b[0m, in \u001b[0;36m<listcomp>\u001b[1;34m(.0)\u001b[0m\n\u001b[0;32m     64\u001b[0m \u001b[38;5;28;01mfor\u001b[39;00m (x, y) \u001b[38;5;129;01min\u001b[39;00m \u001b[38;5;28mzip\u001b[39m(X, Y):\n\u001b[0;32m     65\u001b[0m     new_weight_gradient, new_bias_gradient \u001b[38;5;241m=\u001b[39m \u001b[38;5;28mself\u001b[39m\u001b[38;5;241m.\u001b[39mbackprop(x, y)\n\u001b[1;32m---> 66\u001b[0m     weight_gradient \u001b[38;5;241m=\u001b[39m [wg \u001b[38;5;241m+\u001b[39m nwg \u001b[38;5;28;01mfor\u001b[39;00m wg, nwg \u001b[38;5;129;01min\u001b[39;00m \u001b[38;5;28mzip\u001b[39m(weight_gradient, new_weight_gradient)]\n\u001b[0;32m     67\u001b[0m     bias_gradient \u001b[38;5;241m=\u001b[39m [bg \u001b[38;5;241m+\u001b[39m nbg \u001b[38;5;28;01mfor\u001b[39;00m bg, nbg \u001b[38;5;129;01min\u001b[39;00m \u001b[38;5;28mzip\u001b[39m(bias_gradient, new_bias_gradient)]\n\u001b[0;32m     69\u001b[0m \u001b[38;5;66;03m# C'est ici qu'on calcule les moyennes des gradients calculés\u001b[39;00m\n",
            "\u001b[1;31mKeyboardInterrupt\u001b[0m: "
          ]
        }
      ],
      "source": [
        "# La base de données est coupée en deux : entraînement et test.\n",
        "# X, Y = load_mnist_data()      # déjà chargée avant\n",
        "X_train, Y_train = X[:60000], Y[:60000]\n",
        "X_test, Y_test = X[60000:], Y[60000:]\n",
        "\n",
        "net = Network(input_dim=784)\n",
        "net.add_layer(200)\n",
        "net.add_layer(10)\n",
        "\n",
        "accuracy = net.evaluate(X_test, Y_test)\n",
        "print('Performance initiale : {:.2f}%'.format(accuracy * 100.0))\n",
        "\n",
        "for i in range(5):\n",
        "    net.train(X_train, Y_train, steps=1, learning_rate=3.0)\n",
        "    accuracy = net.evaluate(X_test, Y_test)\n",
        "    print('Nouvelle performance : {:.2f}%'.format(accuracy * 100.0))"
      ]
    }
  ],
  "metadata": {
    "colab": {
      "provenance": []
    },
    "kernelspec": {
      "display_name": "Python 3",
      "name": "python3"
    },
    "language_info": {
      "codemirror_mode": {
        "name": "ipython",
        "version": 3
      },
      "file_extension": ".py",
      "mimetype": "text/x-python",
      "name": "python",
      "nbconvert_exporter": "python",
      "pygments_lexer": "ipython3",
      "version": "3.10.12"
    }
  },
  "nbformat": 4,
  "nbformat_minor": 0
}
